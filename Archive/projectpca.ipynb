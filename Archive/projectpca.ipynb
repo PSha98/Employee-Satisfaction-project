{
 "cells": [
  {
   "cell_type": "code",
   "execution_count": 45,
   "id": "01bb71d8-9125-43df-a4c1-869110278a9a",
   "metadata": {},
   "outputs": [],
   "source": [
    "import numpy as np\n",
    "import pandas as pd\n",
    "import seaborn as sns\n",
    "\n",
    "sns.set_style(\"whitegrid\")\n",
    "\n",
    "df = pd.read_csv('2021_OPM_FEVS_PRDF.csv')\n",
    "df = df.dropna()"
   ]
  },
  {
   "cell_type": "code",
   "execution_count": 46,
   "id": "e454b6b8-00ff-4fa3-ac2a-5d706dd92aa8",
   "metadata": {},
   "outputs": [
    {
     "data": {
      "text/html": [
       "<div>\n",
       "<style scoped>\n",
       "    .dataframe tbody tr th:only-of-type {\n",
       "        vertical-align: middle;\n",
       "    }\n",
       "\n",
       "    .dataframe tbody tr th {\n",
       "        vertical-align: top;\n",
       "    }\n",
       "\n",
       "    .dataframe thead th {\n",
       "        text-align: right;\n",
       "    }\n",
       "</style>\n",
       "<table border=\"1\" class=\"dataframe\">\n",
       "  <thead>\n",
       "    <tr style=\"text-align: right;\">\n",
       "      <th></th>\n",
       "      <th>RandomID</th>\n",
       "      <th>agency</th>\n",
       "      <th>Q1</th>\n",
       "      <th>Q2</th>\n",
       "      <th>Q3</th>\n",
       "      <th>Q4</th>\n",
       "      <th>Q5</th>\n",
       "      <th>Q6</th>\n",
       "      <th>Q7</th>\n",
       "      <th>Q8</th>\n",
       "      <th>...</th>\n",
       "      <th>DRNO</th>\n",
       "      <th>DHISP</th>\n",
       "      <th>DDIS</th>\n",
       "      <th>DAGEGRP</th>\n",
       "      <th>DSUPER</th>\n",
       "      <th>DFEDTEN</th>\n",
       "      <th>DSEX</th>\n",
       "      <th>DMIL</th>\n",
       "      <th>DLEAVING</th>\n",
       "      <th>POSTWT</th>\n",
       "    </tr>\n",
       "  </thead>\n",
       "  <tbody>\n",
       "    <tr>\n",
       "      <th>2</th>\n",
       "      <td>152966380283</td>\n",
       "      <td>XX</td>\n",
       "      <td>5.0</td>\n",
       "      <td>5.0</td>\n",
       "      <td>4.0</td>\n",
       "      <td>4.0</td>\n",
       "      <td>3</td>\n",
       "      <td>4</td>\n",
       "      <td>5</td>\n",
       "      <td>4</td>\n",
       "      <td>...</td>\n",
       "      <td>B</td>\n",
       "      <td>B</td>\n",
       "      <td>B</td>\n",
       "      <td>B</td>\n",
       "      <td>A</td>\n",
       "      <td>B</td>\n",
       "      <td>A</td>\n",
       "      <td>B</td>\n",
       "      <td>C</td>\n",
       "      <td>1.858874</td>\n",
       "    </tr>\n",
       "    <tr>\n",
       "      <th>3</th>\n",
       "      <td>193041162980</td>\n",
       "      <td>XX</td>\n",
       "      <td>5.0</td>\n",
       "      <td>5.0</td>\n",
       "      <td>5.0</td>\n",
       "      <td>5.0</td>\n",
       "      <td>5</td>\n",
       "      <td>5</td>\n",
       "      <td>5</td>\n",
       "      <td>5</td>\n",
       "      <td>...</td>\n",
       "      <td>B</td>\n",
       "      <td>B</td>\n",
       "      <td>A</td>\n",
       "      <td>B</td>\n",
       "      <td>B</td>\n",
       "      <td>B</td>\n",
       "      <td>A</td>\n",
       "      <td>A</td>\n",
       "      <td>A</td>\n",
       "      <td>1.228573</td>\n",
       "    </tr>\n",
       "    <tr>\n",
       "      <th>5</th>\n",
       "      <td>195312241136</td>\n",
       "      <td>XX</td>\n",
       "      <td>4.0</td>\n",
       "      <td>3.0</td>\n",
       "      <td>4.0</td>\n",
       "      <td>4.0</td>\n",
       "      <td>4</td>\n",
       "      <td>4</td>\n",
       "      <td>4</td>\n",
       "      <td>3</td>\n",
       "      <td>...</td>\n",
       "      <td>A</td>\n",
       "      <td>B</td>\n",
       "      <td>B</td>\n",
       "      <td>B</td>\n",
       "      <td>A</td>\n",
       "      <td>B</td>\n",
       "      <td>B</td>\n",
       "      <td>A</td>\n",
       "      <td>A</td>\n",
       "      <td>2.076046</td>\n",
       "    </tr>\n",
       "    <tr>\n",
       "      <th>6</th>\n",
       "      <td>187815423862</td>\n",
       "      <td>XX</td>\n",
       "      <td>5.0</td>\n",
       "      <td>4.0</td>\n",
       "      <td>4.0</td>\n",
       "      <td>4.0</td>\n",
       "      <td>4</td>\n",
       "      <td>4</td>\n",
       "      <td>4</td>\n",
       "      <td>4</td>\n",
       "      <td>...</td>\n",
       "      <td>B</td>\n",
       "      <td>B</td>\n",
       "      <td>B</td>\n",
       "      <td>B</td>\n",
       "      <td>B</td>\n",
       "      <td>B</td>\n",
       "      <td>A</td>\n",
       "      <td>A</td>\n",
       "      <td>A</td>\n",
       "      <td>1.858874</td>\n",
       "    </tr>\n",
       "    <tr>\n",
       "      <th>7</th>\n",
       "      <td>174698178690</td>\n",
       "      <td>XX</td>\n",
       "      <td>1.0</td>\n",
       "      <td>1.0</td>\n",
       "      <td>2.0</td>\n",
       "      <td>1.0</td>\n",
       "      <td>3</td>\n",
       "      <td>1</td>\n",
       "      <td>2</td>\n",
       "      <td>2</td>\n",
       "      <td>...</td>\n",
       "      <td>B</td>\n",
       "      <td>B</td>\n",
       "      <td>B</td>\n",
       "      <td>B</td>\n",
       "      <td>A</td>\n",
       "      <td>B</td>\n",
       "      <td>B</td>\n",
       "      <td>B</td>\n",
       "      <td>C</td>\n",
       "      <td>1.089288</td>\n",
       "    </tr>\n",
       "  </tbody>\n",
       "</table>\n",
       "<p>5 rows × 79 columns</p>\n",
       "</div>"
      ],
      "text/plain": [
       "       RandomID agency   Q1   Q2   Q3   Q4 Q5 Q6 Q7 Q8  ...  DRNO DHISP DDIS  \\\n",
       "2  152966380283     XX  5.0  5.0  4.0  4.0  3  4  5  4  ...     B     B    B   \n",
       "3  193041162980     XX  5.0  5.0  5.0  5.0  5  5  5  5  ...     B     B    A   \n",
       "5  195312241136     XX  4.0  3.0  4.0  4.0  4  4  4  3  ...     A     B    B   \n",
       "6  187815423862     XX  5.0  4.0  4.0  4.0  4  4  4  4  ...     B     B    B   \n",
       "7  174698178690     XX  1.0  1.0  2.0  1.0  3  1  2  2  ...     B     B    B   \n",
       "\n",
       "  DAGEGRP DSUPER DFEDTEN DSEX DMIL DLEAVING    POSTWT  \n",
       "2       B      A       B    A    B        C  1.858874  \n",
       "3       B      B       B    A    A        A  1.228573  \n",
       "5       B      A       B    B    A        A  2.076046  \n",
       "6       B      B       B    A    A        A  1.858874  \n",
       "7       B      A       B    B    B        C  1.089288  \n",
       "\n",
       "[5 rows x 79 columns]"
      ]
     },
     "execution_count": 46,
     "metadata": {},
     "output_type": "execute_result"
    }
   ],
   "source": [
    "df.head()"
   ]
  },
  {
   "cell_type": "code",
   "execution_count": 47,
   "id": "c25705b7-3301-4ac8-a0e0-56b91ad94335",
   "metadata": {},
   "outputs": [
    {
     "data": {
      "text/plain": [
       "4"
      ]
     },
     "execution_count": 47,
     "metadata": {},
     "output_type": "execute_result"
    }
   ],
   "source": [
    "int(df.Q10.mode())"
   ]
  },
  {
   "cell_type": "code",
   "execution_count": 48,
   "id": "ffb15cc7-e285-4f20-948b-5742ba980c2a",
   "metadata": {},
   "outputs": [
    {
     "name": "stderr",
     "output_type": "stream",
     "text": [
      "/tmp/ipykernel_538020/3928364514.py:2: FutureWarning: elementwise comparison failed; returning scalar instead, but in the future will perform elementwise comparison\n",
      "  if 'X' in df.iloc[:,k].values:\n"
     ]
    }
   ],
   "source": [
    "for k in range(2,69):\n",
    "    if 'X' in df.iloc[:,k].values:\n",
    "        df.iloc[:,k].replace({'X':int(df.iloc[:,k].mode())}, inplace=True)"
   ]
  },
  {
   "cell_type": "code",
   "execution_count": 49,
   "id": "cde9acda-27b7-4ed1-b3a7-a2368da54831",
   "metadata": {},
   "outputs": [],
   "source": [
    "df.iloc[:,2:69] = df.iloc[:,2:69].astype(int)"
   ]
  },
  {
   "cell_type": "code",
   "execution_count": 50,
   "id": "c44597c0-456b-4a4e-95ad-2371a19d849d",
   "metadata": {},
   "outputs": [],
   "source": [
    "df = df.drop([\"RandomID\"], axis=1)"
   ]
  },
  {
   "cell_type": "code",
   "execution_count": 51,
   "id": "c5183fb4-dd66-4de9-a6ec-bd493321b61f",
   "metadata": {},
   "outputs": [
    {
     "data": {
      "text/html": [
       "<div>\n",
       "<style scoped>\n",
       "    .dataframe tbody tr th:only-of-type {\n",
       "        vertical-align: middle;\n",
       "    }\n",
       "\n",
       "    .dataframe tbody tr th {\n",
       "        vertical-align: top;\n",
       "    }\n",
       "\n",
       "    .dataframe thead th {\n",
       "        text-align: right;\n",
       "    }\n",
       "</style>\n",
       "<table border=\"1\" class=\"dataframe\">\n",
       "  <thead>\n",
       "    <tr style=\"text-align: right;\">\n",
       "      <th></th>\n",
       "      <th>agency</th>\n",
       "      <th>Q1</th>\n",
       "      <th>Q2</th>\n",
       "      <th>Q3</th>\n",
       "      <th>Q4</th>\n",
       "      <th>Q5</th>\n",
       "      <th>Q6</th>\n",
       "      <th>Q7</th>\n",
       "      <th>Q8</th>\n",
       "      <th>Q9</th>\n",
       "      <th>...</th>\n",
       "      <th>DRNO</th>\n",
       "      <th>DHISP</th>\n",
       "      <th>DDIS</th>\n",
       "      <th>DAGEGRP</th>\n",
       "      <th>DSUPER</th>\n",
       "      <th>DFEDTEN</th>\n",
       "      <th>DSEX</th>\n",
       "      <th>DMIL</th>\n",
       "      <th>DLEAVING</th>\n",
       "      <th>POSTWT</th>\n",
       "    </tr>\n",
       "  </thead>\n",
       "  <tbody>\n",
       "    <tr>\n",
       "      <th>2</th>\n",
       "      <td>XX</td>\n",
       "      <td>5</td>\n",
       "      <td>5</td>\n",
       "      <td>4</td>\n",
       "      <td>4</td>\n",
       "      <td>3</td>\n",
       "      <td>4</td>\n",
       "      <td>5</td>\n",
       "      <td>4</td>\n",
       "      <td>5</td>\n",
       "      <td>...</td>\n",
       "      <td>B</td>\n",
       "      <td>B</td>\n",
       "      <td>B</td>\n",
       "      <td>B</td>\n",
       "      <td>A</td>\n",
       "      <td>B</td>\n",
       "      <td>A</td>\n",
       "      <td>B</td>\n",
       "      <td>C</td>\n",
       "      <td>1.858874</td>\n",
       "    </tr>\n",
       "    <tr>\n",
       "      <th>3</th>\n",
       "      <td>XX</td>\n",
       "      <td>5</td>\n",
       "      <td>5</td>\n",
       "      <td>5</td>\n",
       "      <td>5</td>\n",
       "      <td>5</td>\n",
       "      <td>5</td>\n",
       "      <td>5</td>\n",
       "      <td>5</td>\n",
       "      <td>5</td>\n",
       "      <td>...</td>\n",
       "      <td>B</td>\n",
       "      <td>B</td>\n",
       "      <td>A</td>\n",
       "      <td>B</td>\n",
       "      <td>B</td>\n",
       "      <td>B</td>\n",
       "      <td>A</td>\n",
       "      <td>A</td>\n",
       "      <td>A</td>\n",
       "      <td>1.228573</td>\n",
       "    </tr>\n",
       "    <tr>\n",
       "      <th>5</th>\n",
       "      <td>XX</td>\n",
       "      <td>4</td>\n",
       "      <td>3</td>\n",
       "      <td>4</td>\n",
       "      <td>4</td>\n",
       "      <td>4</td>\n",
       "      <td>4</td>\n",
       "      <td>4</td>\n",
       "      <td>3</td>\n",
       "      <td>4</td>\n",
       "      <td>...</td>\n",
       "      <td>A</td>\n",
       "      <td>B</td>\n",
       "      <td>B</td>\n",
       "      <td>B</td>\n",
       "      <td>A</td>\n",
       "      <td>B</td>\n",
       "      <td>B</td>\n",
       "      <td>A</td>\n",
       "      <td>A</td>\n",
       "      <td>2.076046</td>\n",
       "    </tr>\n",
       "    <tr>\n",
       "      <th>6</th>\n",
       "      <td>XX</td>\n",
       "      <td>5</td>\n",
       "      <td>4</td>\n",
       "      <td>4</td>\n",
       "      <td>4</td>\n",
       "      <td>4</td>\n",
       "      <td>4</td>\n",
       "      <td>4</td>\n",
       "      <td>4</td>\n",
       "      <td>5</td>\n",
       "      <td>...</td>\n",
       "      <td>B</td>\n",
       "      <td>B</td>\n",
       "      <td>B</td>\n",
       "      <td>B</td>\n",
       "      <td>B</td>\n",
       "      <td>B</td>\n",
       "      <td>A</td>\n",
       "      <td>A</td>\n",
       "      <td>A</td>\n",
       "      <td>1.858874</td>\n",
       "    </tr>\n",
       "    <tr>\n",
       "      <th>7</th>\n",
       "      <td>XX</td>\n",
       "      <td>1</td>\n",
       "      <td>1</td>\n",
       "      <td>2</td>\n",
       "      <td>1</td>\n",
       "      <td>3</td>\n",
       "      <td>1</td>\n",
       "      <td>2</td>\n",
       "      <td>2</td>\n",
       "      <td>4</td>\n",
       "      <td>...</td>\n",
       "      <td>B</td>\n",
       "      <td>B</td>\n",
       "      <td>B</td>\n",
       "      <td>B</td>\n",
       "      <td>A</td>\n",
       "      <td>B</td>\n",
       "      <td>B</td>\n",
       "      <td>B</td>\n",
       "      <td>C</td>\n",
       "      <td>1.089288</td>\n",
       "    </tr>\n",
       "  </tbody>\n",
       "</table>\n",
       "<p>5 rows × 78 columns</p>\n",
       "</div>"
      ],
      "text/plain": [
       "  agency  Q1  Q2  Q3  Q4  Q5  Q6  Q7  Q8  Q9  ...  DRNO  DHISP  DDIS  DAGEGRP  \\\n",
       "2     XX   5   5   4   4   3   4   5   4   5  ...     B      B     B        B   \n",
       "3     XX   5   5   5   5   5   5   5   5   5  ...     B      B     A        B   \n",
       "5     XX   4   3   4   4   4   4   4   3   4  ...     A      B     B        B   \n",
       "6     XX   5   4   4   4   4   4   4   4   5  ...     B      B     B        B   \n",
       "7     XX   1   1   2   1   3   1   2   2   4  ...     B      B     B        B   \n",
       "\n",
       "   DSUPER  DFEDTEN  DSEX  DMIL  DLEAVING    POSTWT  \n",
       "2       A        B     A     B         C  1.858874  \n",
       "3       B        B     A     A         A  1.228573  \n",
       "5       A        B     B     A         A  2.076046  \n",
       "6       B        B     A     A         A  1.858874  \n",
       "7       A        B     B     B         C  1.089288  \n",
       "\n",
       "[5 rows x 78 columns]"
      ]
     },
     "execution_count": 51,
     "metadata": {},
     "output_type": "execute_result"
    }
   ],
   "source": [
    "df.head()"
   ]
  },
  {
   "cell_type": "markdown",
   "id": "8eec5daa-f732-48e9-b8c1-95a478129cb3",
   "metadata": {},
   "source": [
    "## Computing polychoric correlations and pca using RyStats module\n",
    "\n",
    "https://github.com/eribean/RyStats"
   ]
  },
  {
   "cell_type": "code",
   "execution_count": 52,
   "id": "35035818-e1db-4fe5-b1c5-c997bccc5ddd",
   "metadata": {},
   "outputs": [],
   "source": [
    "import polychoric\n",
    "import pca"
   ]
  },
  {
   "cell_type": "code",
   "execution_count": 199,
   "id": "ef67824b-90d3-4d10-a9df-77cb253475c7",
   "metadata": {},
   "outputs": [],
   "source": [
    "pol_corr = polychoric.polychoric_correlation_serial(np.array(df.iloc[:,1:9]).transpose(), start_val=1, stop_val=5)"
   ]
  },
  {
   "cell_type": "code",
   "execution_count": 200,
   "id": "50a264c5-f36f-48a1-ae86-81e60f5b868b",
   "metadata": {},
   "outputs": [
    {
     "data": {
      "text/plain": [
       "array([[1.        , 0.82483277, 0.73836164, 0.66204081, 0.46878945,\n",
       "        0.75945302, 0.63188217, 0.60145349],\n",
       "       [0.82483277, 1.        , 0.74393227, 0.67387062, 0.43695859,\n",
       "        0.75484325, 0.63559501, 0.61860011],\n",
       "       [0.73836164, 0.74393227, 1.        , 0.71039536, 0.42018614,\n",
       "        0.75401238, 0.69215075, 0.53891777],\n",
       "       [0.66204081, 0.67387062, 0.71039536, 1.        , 0.47218028,\n",
       "        0.68393647, 0.69947811, 0.55202013],\n",
       "       [0.46878945, 0.43695859, 0.42018614, 0.47218028, 1.        ,\n",
       "        0.49632   , 0.42398206, 0.40378386],\n",
       "       [0.75945302, 0.75484325, 0.75401238, 0.68393647, 0.49632   ,\n",
       "        1.        , 0.69842855, 0.59839001],\n",
       "       [0.63188217, 0.63559501, 0.69215075, 0.69947811, 0.42398206,\n",
       "        0.69842855, 1.        , 0.57329637],\n",
       "       [0.60145349, 0.61860011, 0.53891777, 0.55202013, 0.40378386,\n",
       "        0.59839001, 0.57329637, 1.        ]])"
      ]
     },
     "execution_count": 200,
     "metadata": {},
     "output_type": "execute_result"
    }
   ],
   "source": [
    "pol_corr"
   ]
  },
  {
   "cell_type": "code",
   "execution_count": 201,
   "id": "e36baa93-2fcc-4311-89ad-aa7f9b4fd4ff",
   "metadata": {},
   "outputs": [
    {
     "data": {
      "text/plain": [
       "<AxesSubplot:>"
      ]
     },
     "execution_count": 201,
     "metadata": {},
     "output_type": "execute_result"
    },
    {
     "data": {
      "image/png": "[encoded data removed]",
      "text/plain": [
       "<Figure size 432x288 with 2 Axes>"
      ]
     },
     "metadata": {},
     "output_type": "display_data"
    }
   ],
   "source": [
    "sns.heatmap(pol_corr, annot=True)"
   ]
  },
  {
   "cell_type": "code",
   "execution_count": 202,
   "id": "5361d65c-f045-4e34-b0dd-567d2e2fe804",
   "metadata": {},
   "outputs": [],
   "source": [
    "princ, eigen, uniq = pca.principal_components_analysis(pol_corr, n_factors=5)"
   ]
  },
  {
   "cell_type": "code",
   "execution_count": 203,
   "id": "43b08219-8a7c-44d2-ab06-f030c442b3aa",
   "metadata": {},
   "outputs": [
    {
     "data": {
      "text/plain": [
       "array([[ 0.87819225, -0.09164948,  0.00264293,  0.31841889, -0.01224723],\n",
       "       [ 0.87957697, -0.14304283, -0.02526162,  0.28879636, -0.06064752],\n",
       "       [ 0.86613428, -0.1667151 ,  0.21394603,  0.0334363 ,  0.02116515],\n",
       "       [ 0.8379064 , -0.01697294,  0.17676375, -0.27078472, -0.42127722],\n",
       "       [ 0.60429613,  0.79106775,  0.05264324,  0.04671371,  0.02409725],\n",
       "       [ 0.88587757, -0.04068307,  0.06980253,  0.08335535,  0.21202778],\n",
       "       [ 0.82284133, -0.08742114,  0.09165178, -0.42415647,  0.27618455],\n",
       "       [ 0.74225499, -0.0069286 , -0.65015718, -0.11960551, -0.04161642]])"
      ]
     },
     "execution_count": 203,
     "metadata": {},
     "output_type": "execute_result"
    }
   ],
   "source": [
    "princ"
   ]
  },
  {
   "cell_type": "code",
   "execution_count": 204,
   "id": "21d32c43-d4c7-4248-a6cc-334a564aba48",
   "metadata": {},
   "outputs": [
    {
     "data": {
      "text/plain": [
       "array([5.3751162 , 0.69207664, 0.51641157, 0.46258075, 0.30529687])"
      ]
     },
     "execution_count": 204,
     "metadata": {},
     "output_type": "execute_result"
    }
   ],
   "source": [
    "eigen"
   ]
  },
  {
   "cell_type": "code",
   "execution_count": 205,
   "id": "ec6556a1-d051-4d5e-80ef-caaf98a59011",
   "metadata": {},
   "outputs": [
    {
     "data": {
      "text/plain": [
       "0.9189352536020965"
      ]
     },
     "execution_count": 205,
     "metadata": {},
     "output_type": "execute_result"
    }
   ],
   "source": [
    "eigen.sum()/len(uniq)"
   ]
  },
  {
   "cell_type": "code",
   "execution_count": 206,
   "id": "948ab5b9-b25c-4536-869a-56a85f8a3111",
   "metadata": {},
   "outputs": [
    {
     "data": {
      "text/plain": [
       "[Text(0.5, 0, 'Principal Components'),\n",
       " Text(0, 0.5, 'Percentage explained variances')]"
      ]
     },
     "execution_count": 206,
     "metadata": {},
     "output_type": "execute_result"
    },
    {
     "data": {
      "image/png": "[encoded data removed]",
      "text/plain": [
       "<Figure size 432x288 with 1 Axes>"
      ]
     },
     "metadata": {},
     "output_type": "display_data"
    }
   ],
   "source": [
    "elb1 = sns.lineplot(x=list(range(1,6)), y=100*eigen/eigen.sum())\n",
    "elb1.set(xlabel =\"Principal Components\", ylabel = \"Percentage explained variances\")"
   ]
  },
  {
   "cell_type": "code",
   "execution_count": 207,
   "id": "1854ad63-0e78-482a-8e19-e9ff7d68086b",
   "metadata": {},
   "outputs": [],
   "source": [
    "def get_pca(from_quest, up_to_quest, number_comp):\n",
    "    num_vars = up_to_quest + 1 - from_quest\n",
    "    pol_corr = polychoric.polychoric_correlation_serial(\n",
    "                                                np.array(df.iloc[:,from_quest:up_to_quest+1]).transpose(), \n",
    "                                                start_val=1, \n",
    "                                                stop_val=5)\n",
    "    \n",
    "    princ, eigen, uniq = pca.principal_components_analysis(pol_corr, n_factors=num_vars)\n",
    "    elbow_graph = sns.lineplot(x=list(range(1, num_vars+1)), y=100*eigen/eigen.sum())\n",
    "    elbow_graph.set(xlabel =\"Principal Components\", ylabel = \"Percentage explained variances\")\n",
    "    print(princ[:,:number_comp])"
   ]
  },
  {
   "cell_type": "code",
   "execution_count": 208,
   "id": "ee6eed98-df34-417e-b0fa-f674704348d4",
   "metadata": {},
   "outputs": [
    {
     "name": "stdout",
     "output_type": "stream",
     "text": [
      "[[ 0.87819225 -0.09164948]\n",
      " [ 0.87957697 -0.14304283]\n",
      " [ 0.86613428 -0.1667151 ]\n",
      " [ 0.8379064  -0.01697294]\n",
      " [ 0.60429613  0.79106775]\n",
      " [ 0.88587757 -0.04068307]\n",
      " [ 0.82284133 -0.08742114]\n",
      " [ 0.74225499 -0.0069286 ]]\n"
     ]
    },
    {
     "data": {
      "image/png": "[encoded data removed]",
      "text/plain": [
       "<Figure size 432x288 with 1 Axes>"
      ]
     },
     "metadata": {},
     "output_type": "display_data"
    }
   ],
   "source": [
    "# pca for work experience: Q1 - Q8\n",
    "get_pca(1,8,2)"
   ]
  },
  {
   "cell_type": "code",
   "execution_count": 209,
   "id": "a1b9f524-53ff-4546-8fcf-a9f78dd05f70",
   "metadata": {},
   "outputs": [
    {
     "name": "stdout",
     "output_type": "stream",
     "text": [
      "[[ 0.78325419 -0.03105635]\n",
      " [ 0.70488859  0.09508904]\n",
      " [ 0.13900583 -0.32572042]\n",
      " [ 0.73072138  0.28975819]\n",
      " [ 0.77825863  0.05255656]\n",
      " [ 0.82340032 -0.34083464]\n",
      " [ 0.87857816 -0.31660607]\n",
      " [ 0.86064304 -0.35230785]\n",
      " [ 0.82893955 -0.34106794]\n",
      " [ 0.85724507 -0.28017408]\n",
      " [ 0.84631826 -0.31480418]\n",
      " [ 0.75793663  0.40312723]\n",
      " [ 0.62598452  0.44123356]\n",
      " [ 0.77093028  0.28030514]\n",
      " [ 0.75663086  0.41147185]\n",
      " [ 0.65411997  0.44656394]]\n"
     ]
    },
    {
     "data": {
      "image/png": "[encoded data removed]",
      "text/plain": [
       "<Figure size 432x288 with 1 Axes>"
      ]
     },
     "metadata": {},
     "output_type": "display_data"
    }
   ],
   "source": [
    "# pca for work unit: Q9 - Q24\n",
    "get_pca(9,24,2)"
   ]
  },
  {
   "cell_type": "code",
   "execution_count": 210,
   "id": "5197cd5c-16e3-4c92-b09b-88679a47e862",
   "metadata": {},
   "outputs": [
    {
     "name": "stdout",
     "output_type": "stream",
     "text": [
      "[[-0.82861108  0.35606218]\n",
      " [-0.79489957  0.32666103]\n",
      " [-0.86132203  0.26763702]\n",
      " [-0.86241218  0.40724604]\n",
      " [-0.85977205  0.41477074]\n",
      " [-0.87810022  0.38528067]\n",
      " [-0.84844646  0.36263599]\n",
      " [-0.80054941 -0.4748891 ]\n",
      " [-0.80138488 -0.43397196]\n",
      " [-0.80942099 -0.35400957]\n",
      " [-0.8079663  -0.33715302]\n",
      " [-0.75730227 -0.28223277]\n",
      " [-0.78762842 -0.47105191]\n",
      " [-0.75952051 -0.35204412]]\n"
     ]
    },
    {
     "data": {
      "image/png": "[encoded data removed]",
      "text/plain": [
       "<Figure size 432x288 with 1 Axes>"
      ]
     },
     "metadata": {},
     "output_type": "display_data"
    }
   ],
   "source": [
    "# pca for supervisor relationship: Q25 - Q38\n",
    "get_pca(25,38,2)"
   ]
  },
  {
   "cell_type": "code",
   "execution_count": 211,
   "id": "5feb4baf-1134-41bc-88a9-c8194c59de13",
   "metadata": {},
   "outputs": [
    {
     "name": "stdout",
     "output_type": "stream",
     "text": [
      "[[-0.88996086  0.22545741]\n",
      " [-0.87204901  0.24716494]\n",
      " [-0.8746278   0.00782007]\n",
      " [-0.91209535  0.01820798]\n",
      " [-0.66971263 -0.72717486]\n",
      " [-0.92469929  0.05121981]]\n"
     ]
    },
    {
     "data": {
      "image/png": "[encoded data removed]",
      "text/plain": [
       "<Figure size 432x288 with 1 Axes>"
      ]
     },
     "metadata": {},
     "output_type": "display_data"
    }
   ],
   "source": [
    "# pca for work satisfaction: Q39 - Q44\n",
    "get_pca(39,44,2)"
   ]
  },
  {
   "cell_type": "code",
   "execution_count": 212,
   "id": "54c7802e-2c50-4716-8299-c1117f8f3c56",
   "metadata": {},
   "outputs": [
    {
     "name": "stdout",
     "output_type": "stream",
     "text": [
      "0 agency\n",
      "1 Q1\n",
      "2 Q2\n",
      "3 Q3\n",
      "4 Q4\n",
      "5 Q5\n",
      "6 Q6\n",
      "7 Q7\n",
      "8 Q8\n",
      "9 Q9\n",
      "10 Q10\n",
      "11 Q11\n",
      "12 Q12\n",
      "13 Q13\n",
      "14 Q14\n",
      "15 Q15\n",
      "16 Q16\n",
      "17 Q17\n",
      "18 Q18\n",
      "19 Q19\n",
      "20 Q20\n",
      "21 Q21\n",
      "22 Q22\n",
      "23 Q23\n",
      "24 Q24\n",
      "25 Q25\n",
      "26 Q26\n",
      "27 Q27\n",
      "28 Q28\n",
      "29 Q29\n",
      "30 Q30\n",
      "31 Q31\n",
      "32 Q32\n",
      "33 Q33\n",
      "34 Q34\n",
      "35 Q35\n",
      "36 Q36\n",
      "37 Q37\n",
      "38 Q38\n",
      "39 Q39\n",
      "40 Q40\n",
      "41 Q41\n",
      "42 Q42\n",
      "43 Q43\n",
      "44 Q44\n",
      "45 Q45\n",
      "46 Q46\n",
      "47 Q47_01\n",
      "48 Q47_02\n",
      "49 Q47_03\n",
      "50 Q47_04\n",
      "51 Q47_05\n",
      "52 Q47_06\n",
      "53 Q47_07\n",
      "54 Q47_08\n",
      "55 Q47_09\n",
      "56 Q47_10\n",
      "57 Q47_11\n",
      "58 Q48\n",
      "59 Q49\n",
      "60 Q50\n",
      "61 Q51\n",
      "62 Q52\n",
      "63 Q53\n",
      "64 Q54\n",
      "65 Q55\n",
      "66 Q56\n",
      "67 Q57\n",
      "68 DRNO\n",
      "69 DHISP\n",
      "70 DDIS\n",
      "71 DAGEGRP\n",
      "72 DSUPER\n",
      "73 DFEDTEN\n",
      "74 DSEX\n",
      "75 DMIL\n",
      "76 DLEAVING\n",
      "77 POSTWT\n"
     ]
    }
   ],
   "source": [
    "for i,key in enumerate(df.keys()):\n",
    "    print(i, key)"
   ]
  },
  {
   "cell_type": "code",
   "execution_count": null,
   "id": "40bae0a4-94c9-44a4-9545-12d3cdf02626",
   "metadata": {},
   "outputs": [],
   "source": []
  }
 ],
 "metadata": {
  "kernelspec": {
   "display_name": "Python 3 (ipykernel)",
   "language": "python",
   "name": "python3"
  },
  "language_info": {
   "codemirror_mode": {
    "name": "ipython",
    "version": 3
   },
   "file_extension": ".py",
   "mimetype": "text/x-python",
   "name": "python",
   "nbconvert_exporter": "python",
   "pygments_lexer": "ipython3",
   "version": "3.9.7"
  }
 },
 "nbformat": 4,
 "nbformat_minor": 5
}
