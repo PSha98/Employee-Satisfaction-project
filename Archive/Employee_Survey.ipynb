{
 "cells": [
  {
   "cell_type": "markdown",
   "metadata": {},
   "source": [
    "# Employee Satisfactory Analysis \n",
    "\n",
    "\n",
    "In this notebook, we make use of random forest machine learning algorithms to perform a classification analysis of 2021 Federal Employee Viewpoint Survey. The aim is to determine whether the employee would leave the job using their survey ansers and guide the employer to focus on improvement in certain areas. "
   ]
  },
  {
   "cell_type": "markdown",
   "metadata": {},
   "source": [
    "## I. Import Initial Survey Answers"
   ]
  },
  {
   "cell_type": "code",
   "execution_count": 1,
   "metadata": {},
   "outputs": [],
   "source": [
    "import pandas as pd"
   ]
  },
  {
   "cell_type": "code",
   "execution_count": 2,
   "metadata": {},
   "outputs": [],
   "source": [
    "df = pd.read_csv(r'Datasets/2021_OPM_FEVS_PRDF.csv')\n"
   ]
  },
  {
   "cell_type": "code",
   "execution_count": null,
   "metadata": {
    "scrolled": true
   },
   "outputs": [],
   "source": []
  },
  {
   "cell_type": "markdown",
   "metadata": {},
   "source": [
    "## II. Initial Cleaning/Pre-Processing\n",
    "\n",
    "Before analyzing data we need to clean the data and pre-processing the data.\n",
    "\n",
    "### 1. Cleaning the data"
   ]
  },
  {
   "cell_type": "markdown",
   "metadata": {},
   "source": [
    "During this stage, we drop the NA and duplicate values in our data."
   ]
  },
  {
   "cell_type": "code",
   "execution_count": 3,
   "metadata": {},
   "outputs": [],
   "source": [
    "import numpy as np"
   ]
  },
  {
   "cell_type": "code",
   "execution_count": 4,
   "metadata": {},
   "outputs": [
    {
     "data": {
      "text/html": [
       "<div>\n",
       "<style scoped>\n",
       "    .dataframe tbody tr th:only-of-type {\n",
       "        vertical-align: middle;\n",
       "    }\n",
       "\n",
       "    .dataframe tbody tr th {\n",
       "        vertical-align: top;\n",
       "    }\n",
       "\n",
       "    .dataframe thead th {\n",
       "        text-align: right;\n",
       "    }\n",
       "</style>\n",
       "<table border=\"1\" class=\"dataframe\">\n",
       "  <thead>\n",
       "    <tr style=\"text-align: right;\">\n",
       "      <th></th>\n",
       "      <th>RandomID</th>\n",
       "      <th>agency</th>\n",
       "      <th>Q1</th>\n",
       "      <th>Q2</th>\n",
       "      <th>Q3</th>\n",
       "      <th>Q4</th>\n",
       "      <th>Q5</th>\n",
       "      <th>Q6</th>\n",
       "      <th>Q7</th>\n",
       "      <th>Q8</th>\n",
       "      <th>...</th>\n",
       "      <th>DRNO</th>\n",
       "      <th>DHISP</th>\n",
       "      <th>DDIS</th>\n",
       "      <th>DAGEGRP</th>\n",
       "      <th>DSUPER</th>\n",
       "      <th>DFEDTEN</th>\n",
       "      <th>DSEX</th>\n",
       "      <th>DMIL</th>\n",
       "      <th>DLEAVING</th>\n",
       "      <th>POSTWT</th>\n",
       "    </tr>\n",
       "  </thead>\n",
       "  <tbody>\n",
       "    <tr>\n",
       "      <th>0</th>\n",
       "      <td>112970976817</td>\n",
       "      <td>XX</td>\n",
       "      <td>5.0</td>\n",
       "      <td>5.0</td>\n",
       "      <td>5.0</td>\n",
       "      <td>5.0</td>\n",
       "      <td>5</td>\n",
       "      <td>4</td>\n",
       "      <td>4</td>\n",
       "      <td>4</td>\n",
       "      <td>...</td>\n",
       "      <td>A</td>\n",
       "      <td>B</td>\n",
       "      <td>B</td>\n",
       "      <td>B</td>\n",
       "      <td>B</td>\n",
       "      <td>A</td>\n",
       "      <td>A</td>\n",
       "      <td>A</td>\n",
       "      <td>A</td>\n",
       "      <td>2.209652</td>\n",
       "    </tr>\n",
       "    <tr>\n",
       "      <th>1</th>\n",
       "      <td>194868625278</td>\n",
       "      <td>XX</td>\n",
       "      <td>3.0</td>\n",
       "      <td>2.0</td>\n",
       "      <td>4.0</td>\n",
       "      <td>3.0</td>\n",
       "      <td>4</td>\n",
       "      <td>2</td>\n",
       "      <td>4</td>\n",
       "      <td>2</td>\n",
       "      <td>...</td>\n",
       "      <td>NaN</td>\n",
       "      <td>A</td>\n",
       "      <td>B</td>\n",
       "      <td>B</td>\n",
       "      <td>B</td>\n",
       "      <td>B</td>\n",
       "      <td>A</td>\n",
       "      <td>A</td>\n",
       "      <td>C</td>\n",
       "      <td>2.209652</td>\n",
       "    </tr>\n",
       "    <tr>\n",
       "      <th>2</th>\n",
       "      <td>152966380283</td>\n",
       "      <td>XX</td>\n",
       "      <td>5.0</td>\n",
       "      <td>5.0</td>\n",
       "      <td>4.0</td>\n",
       "      <td>4.0</td>\n",
       "      <td>3</td>\n",
       "      <td>4</td>\n",
       "      <td>5</td>\n",
       "      <td>4</td>\n",
       "      <td>...</td>\n",
       "      <td>B</td>\n",
       "      <td>B</td>\n",
       "      <td>B</td>\n",
       "      <td>B</td>\n",
       "      <td>A</td>\n",
       "      <td>B</td>\n",
       "      <td>A</td>\n",
       "      <td>B</td>\n",
       "      <td>C</td>\n",
       "      <td>1.858874</td>\n",
       "    </tr>\n",
       "    <tr>\n",
       "      <th>3</th>\n",
       "      <td>193041162980</td>\n",
       "      <td>XX</td>\n",
       "      <td>5.0</td>\n",
       "      <td>5.0</td>\n",
       "      <td>5.0</td>\n",
       "      <td>5.0</td>\n",
       "      <td>5</td>\n",
       "      <td>5</td>\n",
       "      <td>5</td>\n",
       "      <td>5</td>\n",
       "      <td>...</td>\n",
       "      <td>B</td>\n",
       "      <td>B</td>\n",
       "      <td>A</td>\n",
       "      <td>B</td>\n",
       "      <td>B</td>\n",
       "      <td>B</td>\n",
       "      <td>A</td>\n",
       "      <td>A</td>\n",
       "      <td>A</td>\n",
       "      <td>1.228573</td>\n",
       "    </tr>\n",
       "    <tr>\n",
       "      <th>4</th>\n",
       "      <td>146655962451</td>\n",
       "      <td>XX</td>\n",
       "      <td>4.0</td>\n",
       "      <td>5.0</td>\n",
       "      <td>5.0</td>\n",
       "      <td>4.0</td>\n",
       "      <td>4</td>\n",
       "      <td>3</td>\n",
       "      <td>5</td>\n",
       "      <td>4</td>\n",
       "      <td>...</td>\n",
       "      <td>B</td>\n",
       "      <td>B</td>\n",
       "      <td>B</td>\n",
       "      <td>B</td>\n",
       "      <td>B</td>\n",
       "      <td>B</td>\n",
       "      <td>A</td>\n",
       "      <td>A</td>\n",
       "      <td>A</td>\n",
       "      <td>1.735842</td>\n",
       "    </tr>\n",
       "    <tr>\n",
       "      <th>...</th>\n",
       "      <td>...</td>\n",
       "      <td>...</td>\n",
       "      <td>...</td>\n",
       "      <td>...</td>\n",
       "      <td>...</td>\n",
       "      <td>...</td>\n",
       "      <td>...</td>\n",
       "      <td>...</td>\n",
       "      <td>...</td>\n",
       "      <td>...</td>\n",
       "      <td>...</td>\n",
       "      <td>...</td>\n",
       "      <td>...</td>\n",
       "      <td>...</td>\n",
       "      <td>...</td>\n",
       "      <td>...</td>\n",
       "      <td>...</td>\n",
       "      <td>...</td>\n",
       "      <td>...</td>\n",
       "      <td>...</td>\n",
       "      <td>...</td>\n",
       "    </tr>\n",
       "    <tr>\n",
       "      <th>292515</th>\n",
       "      <td>154057939422</td>\n",
       "      <td>ST</td>\n",
       "      <td>3.0</td>\n",
       "      <td>4.0</td>\n",
       "      <td>4.0</td>\n",
       "      <td>3.0</td>\n",
       "      <td>4</td>\n",
       "      <td>4</td>\n",
       "      <td>2</td>\n",
       "      <td>4</td>\n",
       "      <td>...</td>\n",
       "      <td>B</td>\n",
       "      <td>B</td>\n",
       "      <td>B</td>\n",
       "      <td>A</td>\n",
       "      <td>A</td>\n",
       "      <td>A</td>\n",
       "      <td>B</td>\n",
       "      <td>B</td>\n",
       "      <td>A</td>\n",
       "      <td>3.004992</td>\n",
       "    </tr>\n",
       "    <tr>\n",
       "      <th>292516</th>\n",
       "      <td>151758964104</td>\n",
       "      <td>ST</td>\n",
       "      <td>3.0</td>\n",
       "      <td>4.0</td>\n",
       "      <td>2.0</td>\n",
       "      <td>4.0</td>\n",
       "      <td>2</td>\n",
       "      <td>2</td>\n",
       "      <td>3</td>\n",
       "      <td>3</td>\n",
       "      <td>...</td>\n",
       "      <td>B</td>\n",
       "      <td>B</td>\n",
       "      <td>B</td>\n",
       "      <td>A</td>\n",
       "      <td>A</td>\n",
       "      <td>A</td>\n",
       "      <td>B</td>\n",
       "      <td>B</td>\n",
       "      <td>D</td>\n",
       "      <td>4.427855</td>\n",
       "    </tr>\n",
       "    <tr>\n",
       "      <th>292517</th>\n",
       "      <td>143492802997</td>\n",
       "      <td>ST</td>\n",
       "      <td>3.0</td>\n",
       "      <td>3.0</td>\n",
       "      <td>NaN</td>\n",
       "      <td>4.0</td>\n",
       "      <td>4</td>\n",
       "      <td>4</td>\n",
       "      <td>4</td>\n",
       "      <td>3</td>\n",
       "      <td>...</td>\n",
       "      <td>NaN</td>\n",
       "      <td>NaN</td>\n",
       "      <td>NaN</td>\n",
       "      <td>NaN</td>\n",
       "      <td>NaN</td>\n",
       "      <td>A</td>\n",
       "      <td>A</td>\n",
       "      <td>NaN</td>\n",
       "      <td>A</td>\n",
       "      <td>4.202227</td>\n",
       "    </tr>\n",
       "    <tr>\n",
       "      <th>292518</th>\n",
       "      <td>110267537558</td>\n",
       "      <td>ST</td>\n",
       "      <td>2.0</td>\n",
       "      <td>4.0</td>\n",
       "      <td>5.0</td>\n",
       "      <td>5.0</td>\n",
       "      <td>2</td>\n",
       "      <td>1</td>\n",
       "      <td>5</td>\n",
       "      <td>4</td>\n",
       "      <td>...</td>\n",
       "      <td>B</td>\n",
       "      <td>B</td>\n",
       "      <td>B</td>\n",
       "      <td>A</td>\n",
       "      <td>A</td>\n",
       "      <td>A</td>\n",
       "      <td>B</td>\n",
       "      <td>B</td>\n",
       "      <td>C</td>\n",
       "      <td>3.523113</td>\n",
       "    </tr>\n",
       "    <tr>\n",
       "      <th>292519</th>\n",
       "      <td>153195177928</td>\n",
       "      <td>ST</td>\n",
       "      <td>4.0</td>\n",
       "      <td>4.0</td>\n",
       "      <td>5.0</td>\n",
       "      <td>5.0</td>\n",
       "      <td>4</td>\n",
       "      <td>3</td>\n",
       "      <td>5</td>\n",
       "      <td>4</td>\n",
       "      <td>...</td>\n",
       "      <td>B</td>\n",
       "      <td>B</td>\n",
       "      <td>A</td>\n",
       "      <td>B</td>\n",
       "      <td>A</td>\n",
       "      <td>A</td>\n",
       "      <td>A</td>\n",
       "      <td>B</td>\n",
       "      <td>A</td>\n",
       "      <td>3.400784</td>\n",
       "    </tr>\n",
       "  </tbody>\n",
       "</table>\n",
       "<p>292520 rows × 79 columns</p>\n",
       "</div>"
      ],
      "text/plain": [
       "            RandomID agency   Q1   Q2   Q3   Q4 Q5 Q6 Q7 Q8  ...  DRNO DHISP  \\\n",
       "0       112970976817     XX  5.0  5.0  5.0  5.0  5  4  4  4  ...     A     B   \n",
       "1       194868625278     XX  3.0  2.0  4.0  3.0  4  2  4  2  ...   NaN     A   \n",
       "2       152966380283     XX  5.0  5.0  4.0  4.0  3  4  5  4  ...     B     B   \n",
       "3       193041162980     XX  5.0  5.0  5.0  5.0  5  5  5  5  ...     B     B   \n",
       "4       146655962451     XX  4.0  5.0  5.0  4.0  4  3  5  4  ...     B     B   \n",
       "...              ...    ...  ...  ...  ...  ... .. .. .. ..  ...   ...   ...   \n",
       "292515  154057939422     ST  3.0  4.0  4.0  3.0  4  4  2  4  ...     B     B   \n",
       "292516  151758964104     ST  3.0  4.0  2.0  4.0  2  2  3  3  ...     B     B   \n",
       "292517  143492802997     ST  3.0  3.0  NaN  4.0  4  4  4  3  ...   NaN   NaN   \n",
       "292518  110267537558     ST  2.0  4.0  5.0  5.0  2  1  5  4  ...     B     B   \n",
       "292519  153195177928     ST  4.0  4.0  5.0  5.0  4  3  5  4  ...     B     B   \n",
       "\n",
       "       DDIS DAGEGRP DSUPER DFEDTEN DSEX DMIL DLEAVING    POSTWT  \n",
       "0         B       B      B       A    A    A        A  2.209652  \n",
       "1         B       B      B       B    A    A        C  2.209652  \n",
       "2         B       B      A       B    A    B        C  1.858874  \n",
       "3         A       B      B       B    A    A        A  1.228573  \n",
       "4         B       B      B       B    A    A        A  1.735842  \n",
       "...     ...     ...    ...     ...  ...  ...      ...       ...  \n",
       "292515    B       A      A       A    B    B        A  3.004992  \n",
       "292516    B       A      A       A    B    B        D  4.427855  \n",
       "292517  NaN     NaN    NaN       A    A  NaN        A  4.202227  \n",
       "292518    B       A      A       A    B    B        C  3.523113  \n",
       "292519    A       B      A       A    A    B        A  3.400784  \n",
       "\n",
       "[292520 rows x 79 columns]"
      ]
     },
     "execution_count": 4,
     "metadata": {},
     "output_type": "execute_result"
    }
   ],
   "source": [
    "df.drop_duplicates() ##dropping all the duplicate values\n"
   ]
  },
  {
   "cell_type": "code",
   "execution_count": 5,
   "metadata": {},
   "outputs": [],
   "source": [
    "df_c  = df.copy()\n",
    "objects= [column for column, is_type in (df_c.dtypes==\"object\").items() if is_type] ## Extracting out all the value which should be integer but is not\n",
    "## The column 'agency' holds no significance here so it is to be dropped.\n",
    "objects.remove('agency')"
   ]
  },
  {
   "cell_type": "code",
   "execution_count": 6,
   "metadata": {},
   "outputs": [],
   "source": [
    "df_c = df_c.dropna()"
   ]
  },
  {
   "cell_type": "markdown",
   "metadata": {},
   "source": [
    "### 2. Pre-Processing Data"
   ]
  },
  {
   "cell_type": "markdown",
   "metadata": {},
   "source": [
    "Now we process the data by replacing the no answer ones with modes. "
   ]
  },
  {
   "cell_type": "code",
   "execution_count": 7,
   "metadata": {},
   "outputs": [],
   "source": [
    "for i in objects:\n",
    "    df_c[i] = df_c[i].replace(['X'], np.nan)\n",
    "    df_c[i] = df_c[i].replace(np.nan, 0)\n",
    "for i in objects[:-9]:\n",
    "    df_c[i] = df_c[i].astype(float)\n",
    "\n",
    "df_ca = df_c.copy()\n",
    "for i in df_ca.columns.values:\n",
    "        df_ca[i] = df_ca[i].replace(0,df_ca[i].value_counts().idxmax())"
   ]
  },
  {
   "cell_type": "markdown",
   "metadata": {},
   "source": [
    "Now we replace the demographics data with numbers so that they could also become features for our analysis."
   ]
  },
  {
   "cell_type": "code",
   "execution_count": 8,
   "metadata": {},
   "outputs": [],
   "source": [
    "df_ca['leaveYN']=0\n",
    "df_ca.loc[df_ca.DLEAVING =='B', 'leaveYN']=1\n",
    "df_ca.loc[df_ca.DLEAVING =='C', 'leaveYN']=1\n",
    "df_ca.loc[df_ca.DLEAVING =='D', 'leaveYN']=1\n",
    "\n",
    "df_rf = df_ca.iloc[:, 2:69].copy()\n",
    "df_rf['DRNO']=0\n",
    "df_rf.loc[df_ca.DRNO =='B', 'DRNO']=1\n",
    "df_rf.loc[df_ca.DRNO =='C', 'DRNO']=2\n",
    "df_rf.loc[df_ca.DRNO =='D', 'DRNO']=3\n",
    "df_rf.DRNO=df_rf.DRNO.astype('float')\n",
    "df_rf['DHISP']=0\n",
    "df_rf.loc[df_ca.DHISP =='B', 'DHISP']=1\n",
    "df_rf.DHISP=df_rf.DHISP.astype('float')\n",
    "df_rf['DDIS']=0\n",
    "df_rf.loc[df_ca.DDIS =='B', 'DDIS']=1\n",
    "df_rf.DDIS=df_rf.DDIS.astype('float')\n",
    "df_rf['DAGEGRP']=0\n",
    "df_rf.loc[df_ca.DAGEGRP =='B', 'DAGEGRP']=1\n",
    "df_rf.DAGEGRP=df_rf.DAGEGRP.astype('float')\n",
    "df_rf['DSUPER']=0\n",
    "df_rf.loc[df_ca.DSUPER =='B', 'DSUPER']=1\n",
    "df_rf.DSUPER=df_rf.DSUPER.astype('float')\n",
    "df_rf['DFEDTEN']=0\n",
    "df_rf.loc[df_ca.DFEDTEN =='B', 'DFEDTEN']=1\n",
    "df_rf.loc[df_ca.DFEDTEN =='C', 'DFEDTEN']=2\n",
    "df_rf.DFEDTEN=df_rf.DFEDTEN.astype('float')\n",
    "df_rf['DSEX']=0\n",
    "df_rf.loc[df_ca.DSEX =='B', 'DSEX']=1\n",
    "df_rf.DSEX=df_rf.DSEX.astype('float')\n",
    "df_rf['DMIL']=0\n",
    "df_rf.loc[df_ca.DMIL =='B', 'DMIL']=1\n",
    "df_rf.DMIL = df_rf.DMIL.astype('float')"
   ]
  },
  {
   "cell_type": "markdown",
   "metadata": {},
   "source": [
    "## III. Exploratory Data Analysis"
   ]
  },
  {
   "cell_type": "code",
   "execution_count": 9,
   "metadata": {},
   "outputs": [],
   "source": [
    "import matplotlib.pyplot as plt\n",
    "import seaborn as sns"
   ]
  },
  {
   "cell_type": "markdown",
   "metadata": {},
   "source": [
    "### 1. Correlation Analysis"
   ]
  },
  {
   "cell_type": "markdown",
   "metadata": {},
   "source": [
    "### 2. Agency specific Analysis"
   ]
  },
  {
   "cell_type": "markdown",
   "metadata": {},
   "source": [
    "### 3. PCA and Factor Analysis"
   ]
  },
  {
   "cell_type": "markdown",
   "metadata": {},
   "source": [
    "## IV. Classification with Random Forest"
   ]
  },
  {
   "cell_type": "code",
   "execution_count": 11,
   "metadata": {},
   "outputs": [],
   "source": [
    "from sklearn.ensemble import RandomForestClassifier\n",
    "from sklearn.metrics import accuracy_score, classification_report"
   ]
  },
  {
   "cell_type": "markdown",
   "metadata": {},
   "source": [
    "First, we tune the hyper parameter for our random forests using results from our factor analysis."
   ]
  },
  {
   "cell_type": "code",
   "execution_count": 12,
   "metadata": {},
   "outputs": [],
   "source": [
    "from Data_Analysis.Tune import RFtune"
   ]
  },
  {
   "cell_type": "code",
   "execution_count": 13,
   "metadata": {},
   "outputs": [
    {
     "name": "stdout",
     "output_type": "stream",
     "text": [
      "Fitting 3 folds for each of 1 candidates, totalling 3 fits\n"
     ]
    }
   ],
   "source": [
    "bestF, X_test, y_test = RFtune(depth = range(1,2), split=[2], leaf = range(1,2), estimators=[50], df = df_rf, y = df_ca.leaveYN)"
   ]
  },
  {
   "cell_type": "code",
   "execution_count": 14,
   "metadata": {},
   "outputs": [
    {
     "name": "stdout",
     "output_type": "stream",
     "text": [
      "{'max_depth': 1, 'min_samples_leaf': 1, 'min_samples_split': 2, 'n_estimators': 50}\n",
      "RandomForestClassifier(max_depth=1, max_features=9, n_estimators=50,\n",
      "                       random_state=20)\n"
     ]
    }
   ],
   "source": [
    "# print best parameter after tuning\n",
    "print(bestF.best_params_)\n",
    "  \n",
    "# print how our model looks after hyper-parameter tuning\n",
    "print(bestF.best_estimator_)\n"
   ]
  },
  {
   "cell_type": "code",
   "execution_count": 15,
   "metadata": {},
   "outputs": [
    {
     "name": "stdout",
     "output_type": "stream",
     "text": [
      "              precision    recall  f1-score   support\n",
      "\n",
      "           0       0.73      0.96      0.83     12655\n",
      "           1       0.71      0.23      0.35      5915\n",
      "\n",
      "    accuracy                           0.72     18570\n",
      "   macro avg       0.72      0.59      0.59     18570\n",
      "weighted avg       0.72      0.72      0.67     18570\n",
      "\n",
      "Accuracy: 0.7239095315024232\n"
     ]
    }
   ],
   "source": [
    "grid_predictions = bestF.predict(X_test)\n",
    "  \n",
    "# print classification report\n",
    "print(classification_report(y_test, grid_predictions))\n",
    "print(\"Accuracy:\",accuracy_score(y_test, grid_predictions))"
   ]
  },
  {
   "cell_type": "markdown",
   "metadata": {},
   "source": [
    "## V. Conclusions\n"
   ]
  },
  {
   "cell_type": "code",
   "execution_count": null,
   "metadata": {},
   "outputs": [],
   "source": []
  }
 ],
 "metadata": {
  "interpreter": {
   "hash": "7e0020a09a6802769fd8a6acd84896031a2b24af8be6baa6fc0a04a5b7809d9e"
  },
  "kernelspec": {
   "display_name": "Python 3 (ipykernel)",
   "language": "python",
   "name": "python3"
  },
  "language_info": {
   "codemirror_mode": {
    "name": "ipython",
    "version": 3
   },
   "file_extension": ".py",
   "mimetype": "text/x-python",
   "name": "python",
   "nbconvert_exporter": "python",
   "pygments_lexer": "ipython3",
   "version": "3.10.6"
  }
 },
 "nbformat": 4,
 "nbformat_minor": 2
}
